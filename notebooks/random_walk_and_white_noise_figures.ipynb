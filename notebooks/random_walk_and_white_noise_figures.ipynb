{
 "cells": [
  {
   "cell_type": "code",
   "execution_count": 1,
   "metadata": {},
   "outputs": [],
   "source": [
    "from random import random\n",
    "from matplotlib import pyplot\n",
    "from random import seed\n",
    "from random import randrange\n",
    "from matplotlib import pyplot"
   ]
  },
  {
   "cell_type": "code",
   "execution_count": 2,
   "metadata": {},
   "outputs": [
    {
     "name": "stdout",
     "output_type": "stream",
     "text": [
      "['Solarize_Light2', '_classic_test_patch', '_mpl-gallery', '_mpl-gallery-nogrid', 'bmh', 'classic', 'dark_background', 'fast', 'fivethirtyeight', 'ggplot', 'grayscale', 'seaborn', 'seaborn-bright', 'seaborn-colorblind', 'seaborn-dark', 'seaborn-dark-palette', 'seaborn-darkgrid', 'seaborn-deep', 'seaborn-muted', 'seaborn-notebook', 'seaborn-paper', 'seaborn-pastel', 'seaborn-poster', 'seaborn-talk', 'seaborn-ticks', 'seaborn-white', 'seaborn-whitegrid', 'tableau-colorblind10']\n"
     ]
    }
   ],
   "source": [
    "# Import save fig and styles\n",
    "from utils import save_fig_for_raport\n",
    "\n",
    "from matplotlib import pyplot as plt\n",
    "print(plt.style.available)\n",
    "plt.rcParams.update(plt.rcParamsDefault)\n",
    "# plt.style.use(\"seaborn\")\n",
    "plt.rcParams['font.size'] = '16'\n",
    "# mpl_style()"
   ]
  },
  {
   "cell_type": "markdown",
   "metadata": {},
   "source": [
    "## Random Walk"
   ]
  },
  {
   "cell_type": "code",
   "execution_count": 9,
   "metadata": {},
   "outputs": [
    {
     "name": "stderr",
     "output_type": "stream",
     "text": [
      "/tmp/ipykernel_328455/185546312.py:14: UserWarning: Matplotlib is currently using module://matplotlib_inline.backend_inline, which is a non-GUI backend, so cannot show the figure.\n",
      "  fig.show()\n"
     ]
    }
   ],
   "source": [
    "\n",
    "seed(1)\n",
    "random_walk = list()\n",
    "random_walk.append(-1 if random() < 0.5 else 1)\n",
    "for i in range(1, 1000):\n",
    "\tmovement = -1 if random() < 0.5 else 1\n",
    "\tvalue = random_walk[i-1] + movement\n",
    "\trandom_walk.append(value)\n",
    "\n",
    "fig, ax = plt.subplots()\n",
    "ax.plot(random_walk, color='#003366', linewidth=1)\n",
    "ax.set_title(\"Random walk lineplot\")\n",
    "ax.set_xlabel(\"time step\")\n",
    "ax.set_ylabel(\"value\")\n",
    "fig.show()\n",
    "save_fig_for_raport(\n",
    "  fig=ax,\n",
    "  name=\"random_walk_lineplot\",\n",
    ")"
   ]
  },
  {
   "cell_type": "markdown",
   "metadata": {},
   "source": [
    "## White noise"
   ]
  },
  {
   "cell_type": "code",
   "execution_count": 8,
   "metadata": {},
   "outputs": [
    {
     "name": "stderr",
     "output_type": "stream",
     "text": [
      "/tmp/ipykernel_328455/626538045.py:8: UserWarning: Matplotlib is currently using module://matplotlib_inline.backend_inline, which is a non-GUI backend, so cannot show the figure.\n",
      "  fig.show()\n"
     ]
    }
   ],
   "source": [
    "\n",
    "seed(1)\n",
    "series = [randrange(10) for i in range(1000)]\n",
    "fig, ax = plt.subplots()\n",
    "ax.plot(series, color='#003366', linewidth=1)\n",
    "ax.set_title(\"White noise lineplot\")\n",
    "ax.set_xlabel(\"time step\")\n",
    "ax.set_ylabel(\"value\")\n",
    "fig.show()\n",
    "save_fig_for_raport(\n",
    "  fig=ax,\n",
    "  name=\"white_noise_lineplot\",\n",
    ")"
   ]
  }
 ],
 "metadata": {
  "interpreter": {
   "hash": "3604710156ee2998f00593fc9d47684e2818d101a3319d58fcd5d20f13368f64"
  },
  "kernelspec": {
   "display_name": "Python 3.8.12 64-bit",
   "language": "python",
   "name": "python3"
  },
  "language_info": {
   "codemirror_mode": {
    "name": "ipython",
    "version": 3
   },
   "file_extension": ".py",
   "mimetype": "text/x-python",
   "name": "python",
   "nbconvert_exporter": "python",
   "pygments_lexer": "ipython3",
   "version": "3.8.12"
  },
  "orig_nbformat": 4
 },
 "nbformat": 4,
 "nbformat_minor": 2
}
