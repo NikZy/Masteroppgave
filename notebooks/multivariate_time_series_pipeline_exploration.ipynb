{
 "cells": [
  {
   "cell_type": "code",
   "execution_count": 2,
   "metadata": {},
   "outputs": [
    {
     "name": "stderr",
     "output_type": "stream",
     "text": [
      "/home/archie/code/Masteroppgave/venv/lib/python3.8/site-packages/statsmodels/compat/pandas.py:65: FutureWarning: pandas.Int64Index is deprecated and will be removed from pandas in a future version. Use pandas.Index with the appropriate dtype instead.\n",
      "  from pandas import Int64Index as NumericIndex\n"
     ]
    }
   ],
   "source": [
    "\n",
    "from matplotlib import pyplot as plt\n",
    "import pandas as pd\n",
    "from utils import save_fig_for_raport\n",
    "from pandas.plotting import autocorrelation_plot\n",
    "import pandas.plotting\n",
    "from statsmodels.tsa.stattools import adfuller\n",
    "from statsmodels.tsa.seasonal import seasonal_decompose"
   ]
  },
  {
   "cell_type": "code",
   "execution_count": 3,
   "metadata": {},
   "outputs": [
    {
     "data": {
      "text/html": [
       "<div>\n",
       "<style scoped>\n",
       "    .dataframe tbody tr th:only-of-type {\n",
       "        vertical-align: middle;\n",
       "    }\n",
       "\n",
       "    .dataframe tbody tr th {\n",
       "        vertical-align: top;\n",
       "    }\n",
       "\n",
       "    .dataframe thead th {\n",
       "        text-align: right;\n",
       "    }\n",
       "</style>\n",
       "<table border=\"1\" class=\"dataframe\">\n",
       "  <thead>\n",
       "    <tr style=\"text-align: right;\">\n",
       "      <th></th>\n",
       "      <th>date</th>\n",
       "      <th>product_id</th>\n",
       "      <th>root_cat_id</th>\n",
       "      <th>hits</th>\n",
       "      <th>clicks</th>\n",
       "      <th>popularity</th>\n",
       "      <th>cat_name</th>\n",
       "    </tr>\n",
       "    <tr>\n",
       "      <th>cat_id</th>\n",
       "      <th></th>\n",
       "      <th></th>\n",
       "      <th></th>\n",
       "      <th></th>\n",
       "      <th></th>\n",
       "      <th></th>\n",
       "      <th></th>\n",
       "    </tr>\n",
       "  </thead>\n",
       "  <tbody>\n",
       "    <tr>\n",
       "      <th>33</th>\n",
       "      <td>29</td>\n",
       "      <td>29</td>\n",
       "      <td>29</td>\n",
       "      <td>29</td>\n",
       "      <td>29</td>\n",
       "      <td>29</td>\n",
       "      <td>29</td>\n",
       "    </tr>\n",
       "    <tr>\n",
       "      <th>11037</th>\n",
       "      <td>399</td>\n",
       "      <td>399</td>\n",
       "      <td>399</td>\n",
       "      <td>399</td>\n",
       "      <td>399</td>\n",
       "      <td>399</td>\n",
       "      <td>399</td>\n",
       "    </tr>\n",
       "    <tr>\n",
       "      <th>11091</th>\n",
       "      <td>228</td>\n",
       "      <td>228</td>\n",
       "      <td>228</td>\n",
       "      <td>228</td>\n",
       "      <td>228</td>\n",
       "      <td>228</td>\n",
       "      <td>228</td>\n",
       "    </tr>\n",
       "    <tr>\n",
       "      <th>11573</th>\n",
       "      <td>902</td>\n",
       "      <td>902</td>\n",
       "      <td>902</td>\n",
       "      <td>902</td>\n",
       "      <td>902</td>\n",
       "      <td>902</td>\n",
       "      <td>902</td>\n",
       "    </tr>\n",
       "  </tbody>\n",
       "</table>\n",
       "</div>"
      ],
      "text/plain": [
       "        date  product_id  root_cat_id  hits  clicks  popularity  cat_name\n",
       "cat_id                                                                   \n",
       "33        29          29           29    29      29          29        29\n",
       "11037    399         399          399   399     399         399       399\n",
       "11091    228         228          228   228     228         228       228\n",
       "11573    902         902          902   902     902         902       902"
      ]
     },
     "execution_count": 3,
     "metadata": {},
     "output_type": "execute_result"
    }
   ],
   "source": [
    "# raw_data = pipeline.market_insight_pipeline().run()\n",
    "raw_data_small = pd.read_csv(\n",
    "    \"../datasets/interim/market_insight_preprocessed.csv\",\n",
    "    parse_dates=[\"date\"],\n",
    ")\n",
    "raw_data_small.head()\n",
    "raw_data_small.groupby(\"cat_id\").count()"
   ]
  },
  {
   "cell_type": "code",
   "execution_count": 4,
   "metadata": {},
   "outputs": [
    {
     "name": "stdout",
     "output_type": "stream",
     "text": [
      "            hits\n",
      "date            \n",
      "2018-12-02     2\n",
      "2018-12-03    16\n",
      "2018-12-04     1\n",
      "2018-12-05     5\n",
      "2018-12-06     3\n",
      "[Timestamp('2018-12-02 00:00:00', freq='D'), Timestamp('2018-12-03 00:00:00', freq='D')]\n"
     ]
    }
   ],
   "source": [
    "# id11573 has mose data with 902 entries\n",
    "# data_chosen_cat = raw_data.loc[raw_data[\"cat_id\"] == 11573][[\"hits\",\"clicks\", \"date\"]]\n",
    "data_chosen_cat_small= raw_data_small.loc[raw_data_small[\"cat_id\"] == 11573][[\"hits\", \"date\"]]\n",
    "data_chosen_cat_filled_dates_small = data_chosen_cat_small.groupby(pd.Grouper(key=\"date\", freq=\"D\")).sum()\n",
    "\n",
    "print(data_chosen_cat_filled_dates_small.head())\n",
    "dates = data_chosen_cat_filled_dates_small.index.tolist()\n",
    "print(dates[:2])\n",
    "data_chosen_cat_filled_dates_small.tail()\n",
    "data = data_chosen_cat_filled_dates_small\n"
   ]
  },
  {
   "cell_type": "code",
   "execution_count": 5,
   "metadata": {},
   "outputs": [
    {
     "name": "stdout",
     "output_type": "stream",
     "text": [
      "year code 0\n",
      "month code 0\n",
      "century code 6\n",
      "month code 1\n",
      "leap year code 1\n",
      "day_of _the week 6\n"
     ]
    },
    {
     "data": {
      "text/plain": [
       "'\\n    0 = Sunday\\n    1 = Monday\\n    2 = Tuesday\\n    3 = Wednesday\\n    4 = Thursday\\n    5 = Friday\\n    6 = Saturday\\n    '"
      ]
     },
     "execution_count": 5,
     "metadata": {},
     "output_type": "execute_result"
    }
   ],
   "source": [
    "# Source https://artofmemory.com/blog/how-to-calculate-the-day-of-the-week/\n",
    "# (Year Code + Month Code + Century Code + Date Number - Leap Year Code)\n",
    "# Index 0 is january 1st, index 1 is february 1st, etc.\n",
    "from datetime import datetime\n",
    "d = 1897\n",
    "year_code = lambda date: (int(str(date.year)[2:]) + (int(str(date.year)[2:]) // 4) ) % 7\n",
    "def century_code(date):\n",
    "  year = str(date.year)[:2]\n",
    "  code = 4\n",
    "  if year == \"17\":\n",
    "    code = 4\n",
    "  elif year == \"18\":\n",
    "    code =2\n",
    "  elif year == \"19\":\n",
    "    code =  0\n",
    "  elif year == \"20\":\n",
    "    code = 6\n",
    "  elif year == \"21\":\n",
    "    code = 4\n",
    "  elif year == \"22\":\n",
    "      code = 2\n",
    "  elif year == \"23\":\n",
    "    code = 0\n",
    "  return code\n",
    "\n",
    "month_codes =[  0,3,3,6,1,4,6,2,5,0,3,5, ]\n",
    "month_code = lambda date: month_codes[date.month - 1]\n",
    "date_number = lambda date: date.day\n",
    "\n",
    "def leap_year_code(date):\n",
    "  year = date.year\n",
    "  month = date.month\n",
    "  code = 0\n",
    "  is_divisible_by_4_but_not_100 = year % 4 == 0 and year % 100 != 0\n",
    "  if is_divisible_by_4_but_not_100:\n",
    "    code = 1\n",
    "  elif year % 400 == 0:\n",
    "    code = 1\n",
    "\n",
    "  is_january_or_february = month == 1 or month == 2\n",
    "  if not is_january_or_february:\n",
    "    code = 0\n",
    "\n",
    "  return code\n",
    "\n",
    "assert leap_year_code(datetime(1992, 1, 1)) == 1\n",
    "assert leap_year_code(datetime(1897, 2, 1)) == 0\n",
    "assert leap_year_code(datetime(1900, 1, 1)) == 0\n",
    "assert leap_year_code(datetime(2000, 1, 1)) == 1\n",
    "calculate_day_of_the_week = lambda date: (year_code(date) + month_code(date) + century_code(d) + date_number(date) - leap_year_code(date)) % 7\n",
    "d = datetime(2000, 1, 1)\n",
    "#d = datetime(1969, 7, 20)\n",
    "print(\"year code\", year_code(d))\n",
    "print(\"month code\", month_code(d))\n",
    "print(\"century code\", century_code(d))\n",
    "print(\"month code\", date_number(d))\n",
    "print(\"leap year code\", leap_year_code(d))\n",
    "print(\"day_of _the week\", \n",
    "calculate_day_of_the_week(d)\n",
    ")\n",
    "#assert calculate_day_of_the_week(datetime(2000, 1, 1)) == 6\n",
    "#assert calculate_day_of_the_week(datetime(1969, 7, 20)) == 0\n",
    "\"\"\"\n",
    "    0 = Sunday\n",
    "    1 = Monday\n",
    "    2 = Tuesday\n",
    "    3 = Wednesday\n",
    "    4 = Thursday\n",
    "    5 = Friday\n",
    "    6 = Saturday\n",
    "    \"\"\""
   ]
  },
  {
   "cell_type": "code",
   "execution_count": 14,
   "metadata": {},
   "outputs": [
    {
     "name": "stdout",
     "output_type": "stream",
     "text": [
      "[0.8660254037844387, 0.5000000000000001, 6.123233995736766e-17, -0.4999999999999998, -0.8660254037844387, -1.0, -0.8660254037844388, -0.5000000000000004, -1.8369701987210297e-16, 0.5000000000000001, 0.8660254037844384, 1.0, 0.8660254037844387, 0.5000000000000001, 6.123233995736766e-17, -0.4999999999999998, -0.8660254037844387, -1.0, -0.8660254037844388, -0.5000000000000004, -1.8369701987210297e-16, 0.5000000000000001, 0.8660254037844384, 1.0]\n"
     ]
    },
    {
     "data": {
      "image/png": "[encoded data removed]",
      "text/plain": [
       "<Figure size 864x576 with 1 Axes>"
      ]
     },
     "metadata": {
      "needs_background": "light"
     },
     "output_type": "display_data"
    }
   ],
   "source": [
    "from sklearn.preprocessing import MinMaxScaler, StandardScaler\n",
    "import math\n",
    "\n",
    "def  calculate_season(date: datetime) -> float:\n",
    "    \"\"\"\n",
    "    Takes a number between 0 and 11 and returns a number between -1 and 1\n",
    "    If the number is a month number close to christmas the number will be close to 1,\n",
    "    if the number is close to summer, the number will be close to -1.\n",
    "    \"\"\"\n",
    "    month = date.month\n",
    "    return math.cos(math.pi * (month % 12 ) / 6)\n",
    "months = [ calculate_season(datetime(2000, x % 12 + 1, 1)) for x in range(0,24)]\n",
    "print(months)\n",
    "fig, ax = plt.subplots(figsize=(12, 8))\n",
    "plt.xlabel(\"Month\")\n",
    "plt.ylabel(\"Season\")\n",
    "plt.title(\"Season feature\")\n",
    "plt.plot(months)\n",
    "plt.savefig(\"../MastersThesis/figs/code_generated/season_feature.png\")"
   ]
  },
  {
   "cell_type": "code",
   "execution_count": null,
   "metadata": {},
   "outputs": [],
   "source": [
    "def is_summer_based_on_month(month):\n",
    "    if month in [6, 7, 8]:\n",
    "        return True\n",
    "    else:\n",
    "        return False\n",
    "\n",
    "def is_winter_based_on_mont(month):\n",
    "    if month in [1, 2, 3]:\n",
    "        return True\n",
    "    else:\n",
    "        return False\n",
    "\n",
    "\n",
    "  "
   ]
  },
  {
   "cell_type": "code",
   "execution_count": 152,
   "metadata": {},
   "outputs": [
    {
     "name": "stdout",
     "output_type": "stream",
     "text": [
      "[datetime.date(2018, 12, 2) datetime.date(2018, 12, 3)\n",
      " datetime.date(2018, 12, 4) ... datetime.date(2021, 9, 6)\n",
      " datetime.date(2021, 9, 7) datetime.date(2021, 9, 8)]\n"
     ]
    },
    {
     "data": {
      "text/html": [
       "<div>\n",
       "<style scoped>\n",
       "    .dataframe tbody tr th:only-of-type {\n",
       "        vertical-align: middle;\n",
       "    }\n",
       "\n",
       "    .dataframe tbody tr th {\n",
       "        vertical-align: top;\n",
       "    }\n",
       "\n",
       "    .dataframe thead th {\n",
       "        text-align: right;\n",
       "    }\n",
       "</style>\n",
       "<table border=\"1\" class=\"dataframe\">\n",
       "  <thead>\n",
       "    <tr style=\"text-align: right;\">\n",
       "      <th></th>\n",
       "      <th>hits</th>\n",
       "      <th>day_of_the_week</th>\n",
       "      <th>season</th>\n",
       "      <th>month</th>\n",
       "    </tr>\n",
       "    <tr>\n",
       "      <th>date</th>\n",
       "      <th></th>\n",
       "      <th></th>\n",
       "      <th></th>\n",
       "      <th></th>\n",
       "    </tr>\n",
       "  </thead>\n",
       "  <tbody>\n",
       "    <tr>\n",
       "      <th>2021-09-04</th>\n",
       "      <td>3</td>\n",
       "      <td>6</td>\n",
       "      <td>-1.836970e-16</td>\n",
       "      <td>9</td>\n",
       "    </tr>\n",
       "    <tr>\n",
       "      <th>2021-09-05</th>\n",
       "      <td>0</td>\n",
       "      <td>0</td>\n",
       "      <td>-1.836970e-16</td>\n",
       "      <td>9</td>\n",
       "    </tr>\n",
       "    <tr>\n",
       "      <th>2021-09-06</th>\n",
       "      <td>4</td>\n",
       "      <td>1</td>\n",
       "      <td>-1.836970e-16</td>\n",
       "      <td>9</td>\n",
       "    </tr>\n",
       "    <tr>\n",
       "      <th>2021-09-07</th>\n",
       "      <td>0</td>\n",
       "      <td>2</td>\n",
       "      <td>-1.836970e-16</td>\n",
       "      <td>9</td>\n",
       "    </tr>\n",
       "    <tr>\n",
       "      <th>2021-09-08</th>\n",
       "      <td>1</td>\n",
       "      <td>3</td>\n",
       "      <td>-1.836970e-16</td>\n",
       "      <td>9</td>\n",
       "    </tr>\n",
       "  </tbody>\n",
       "</table>\n",
       "</div>"
      ],
      "text/plain": [
       "            hits  day_of_the_week        season  month\n",
       "date                                                  \n",
       "2021-09-04     3                6 -1.836970e-16      9\n",
       "2021-09-05     0                0 -1.836970e-16      9\n",
       "2021-09-06     4                1 -1.836970e-16      9\n",
       "2021-09-07     0                2 -1.836970e-16      9\n",
       "2021-09-08     1                3 -1.836970e-16      9"
      ]
     },
     "execution_count": 152,
     "metadata": {},
     "output_type": "execute_result"
    }
   ],
   "source": [
    "import pipe\n",
    "import numpy as np\n",
    "print(data.index.date)\n",
    "\n",
    "vector_calculate_day_of_the_week = np.vectorize(calculate_day_of_the_week)\n",
    "vector_calculate_season = np.vectorize(calculate_season)\n",
    "vector_calculate_month = np.vectorize(lambda date: date.month)\n",
    "dates = data.index.date\n",
    "data[\"day_of_the_week\"] = vector_calculate_day_of_the_week(dates)\n",
    "data[\"month\"] = vector_calculate_month(dates)\n",
    "data[\"season\"] = vector_calculate_season(dates)\n",
    "data.tail()\n"
   ]
  },
  {
   "cell_type": "code",
   "execution_count": null,
   "metadata": {},
   "outputs": [],
   "source": [
    "# id11573 has mose data with 902 entries\n",
    "# data_chosen_cat = raw_data.loc[raw_data[\"cat_id\"] == 11573][[\"hits\",\"clicks\", \"date\"]]\n",
    "data_chosen_cat_small= raw_data_small.loc[raw_data_small[\"cat_id\"] == 11573][[\"hits\", \"date\"]]\n",
    "data_chosen_cat_filled_dates_small = data_chosen_cat_small.groupby(pd.Grouper(key=\"date\", freq=\"D\")).sum()\n",
    "\n",
    "print(data_chosen_cat_filled_dates_small.head())\n",
    "dates = data_chosen_cat_filled_dates_small.index.tolist()\n",
    "print(dates[:2])\n",
    "data_chosen_cat_filled_dates_small.tail()\n"
   ]
  }
 ],
 "metadata": {
  "interpreter": {
   "hash": "3b275c7f74789a1a8a4fd89c857f9ae3886ce5ec2247c206dd34fa9a3f1c2b5d"
  },
  "kernelspec": {
   "display_name": "Python 3.9.7 ('venv-pycharm2': venv)",
   "language": "python",
   "name": "python3"
  },
  "language_info": {
   "codemirror_mode": {
    "name": "ipython",
    "version": 3
   },
   "file_extension": ".py",
   "mimetype": "text/x-python",
   "name": "python",
   "nbconvert_exporter": "python",
   "pygments_lexer": "ipython3",
   "version": "3.8.12"
  },
  "orig_nbformat": 4
 },
 "nbformat": 4,
 "nbformat_minor": 2
}
