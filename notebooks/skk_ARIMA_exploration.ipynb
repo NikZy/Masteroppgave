{
 "cells": [
  {
   "cell_type": "markdown",
   "id": "227d3893",
   "metadata": {},
   "source": [
    "# ARIMA Exploration\n",
    "Explore the use of the ARIMA method in a notebook before structured implementation in pipeline."
   ]
  },
  {
   "cell_type": "markdown",
   "id": "287e41ee",
   "metadata": {},
   "source": [
    "## Data import"
   ]
  },
  {
   "cell_type": "code",
   "execution_count": 1,
   "id": "765cfda2",
   "metadata": {},
   "outputs": [],
   "source": [
    "import pandas as pd\n",
    "import matplotlib.pyplot as plt"
   ]
  },
  {
   "cell_type": "code",
   "execution_count": 4,
   "id": "0411d9e2",
   "metadata": {},
   "outputs": [],
   "source": [
    "base_path =\"../datasets/raw/\"\n",
    "raw_categories_data_path = base_path + \"solr_categories_2021_11_29.csv\"\n",
    "raw_data_path = base_path+\"market_insights_overview_all.csv\"\n",
    "raw_data_51_path = base_path+\"market_insights_51_headphones.csv\""
   ]
  },
  {
   "cell_type": "markdown",
   "id": "d8486199",
   "metadata": {},
   "source": [
    "### Import and filter\n",
    "Import all time series data\n",
    "\n",
    "Fitler out headphones data with id 12840\n",
    "\n",
    "Save the data to a new file for later import"
   ]
  },
  {
   "cell_type": "code",
   "execution_count": null,
   "id": "d143b221",
   "metadata": {},
   "outputs": [],
   "source": [
    "# Import all data\n",
    "all_data = pd.read_csv(raw_data_path)"
   ]
  },
  {
   "cell_type": "code",
   "execution_count": null,
   "id": "13f5f3ca",
   "metadata": {},
   "outputs": [],
   "source": [
    "# Filter data\n",
    "cat_id = 51\n",
    "filtered_data = all_data[all_data.cat_id == cat_id]"
   ]
  },
  {
   "cell_type": "code",
   "execution_count": null,
   "id": "54f0d326",
   "metadata": {},
   "outputs": [],
   "source": [
    "filtered_data.to_csv(raw_data_51_path)"
   ]
  },
  {
   "cell_type": "markdown",
   "id": "ef39aa17",
   "metadata": {},
   "source": [
    "### Import filtered data"
   ]
  },
  {
   "cell_type": "code",
   "execution_count": null,
   "id": "4eebb2ed",
   "metadata": {},
   "outputs": [],
   "source": [
    "# Read raw data\n",
    "data = pd.read_csv(raw_data_51_path)\n",
    "categories = pd.read_csv(raw_categories_data_path)"
   ]
  },
  {
   "cell_type": "code",
   "execution_count": null,
   "id": "d8102b1d",
   "metadata": {},
   "outputs": [],
   "source": [
    "category_data = categories[categories.id == 51]\n",
    "category_data"
   ]
  },
  {
   "cell_type": "code",
   "execution_count": null,
   "id": "f16e4979",
   "metadata": {},
   "outputs": [],
   "source": [
    "# Display info of loaded raw time series data\n",
    "data.head()\n",
    "data.info()"
   ]
  },
  {
   "cell_type": "markdown",
   "id": "a9522d59",
   "metadata": {},
   "source": [
    "## Group filtered data as one class"
   ]
  },
  {
   "cell_type": "code",
   "execution_count": null,
   "id": "bc9da9fd",
   "metadata": {},
   "outputs": [],
   "source": [
    "category_data = data.groupby([\"cat_id\", \"date\"], as_index=False).sum()\n",
    "# Filter away early 2018 data as it seems to contain errors\n",
    "category_data = category_data.loc[category_data['date'] > '2018-12-01']"
   ]
  },
  {
   "cell_type": "code",
   "execution_count": null,
   "id": "63a51993",
   "metadata": {},
   "outputs": [],
   "source": [
    "# Display info of loaded raw time series data\n",
    "category_data.head()\n",
    "category_data.info()"
   ]
  },
  {
   "cell_type": "markdown",
   "id": "4a0d921e",
   "metadata": {},
   "source": [
    "## Visualize data\n",
    "Graph to visualize the data"
   ]
  },
  {
   "cell_type": "code",
   "execution_count": null,
   "id": "e2308786",
   "metadata": {},
   "outputs": [],
   "source": [
    "category_data.plot(\n",
    "    x=\"date\",\n",
    "    y=[\"hits\", \"clicks\"],\n",
    "    title=f\"category: Headphones\",\n",
    "    figsize=(30, 10),\n",
    "),f\"lineplot_51_headphones\""
   ]
  },
  {
   "cell_type": "code",
   "execution_count": null,
   "id": "55a61d36",
   "metadata": {},
   "outputs": [],
   "source": [
    "category_data.boxplot(column=[\"hits\", \"clicks\"])"
   ]
  },
  {
   "cell_type": "code",
   "execution_count": null,
   "id": "cdcab87c",
   "metadata": {},
   "outputs": [],
   "source": [
    "from pandas.plotting import autocorrelation_plot\n",
    "autocorrelation_plot(category_data[\"hits\"])"
   ]
  },
  {
   "cell_type": "markdown",
   "id": "a144c2dd",
   "metadata": {},
   "source": [
    "# ARIMA"
   ]
  },
  {
   "cell_type": "markdown",
   "id": "db9c52b2",
   "metadata": {},
   "source": [
    "## Initial fit on entire time series"
   ]
  },
  {
   "cell_type": "code",
   "execution_count": null,
   "id": "f59639a5",
   "metadata": {},
   "outputs": [],
   "source": [
    "from statsmodels.tsa.arima.model import ARIMA\n",
    "\n",
    "from pandas import datetime\n",
    "from pandas import read_csv\n",
    "from pandas import DataFrame\n",
    "from matplotlib import pyplot\n",
    "\n",
    "# Reduce data to 100 data-points for to validate the models runs\n",
    "hits_data_series = category_data[\"hits\"][:100]\n",
    "clicks_data_series = category_data[\"clicks\"][:100]"
   ]
  },
  {
   "cell_type": "code",
   "execution_count": null,
   "id": "b61432d1",
   "metadata": {},
   "outputs": [],
   "source": [
    "# Create model, data -> hits\n",
    "model = ARIMA(\n",
    "    hits_data_series,\n",
    "    order=(5,1,0)\n",
    ")\n",
    "# Fit model\n",
    "model_fit = model.fit()"
   ]
  },
  {
   "cell_type": "code",
   "execution_count": null,
   "id": "6592385f",
   "metadata": {},
   "outputs": [],
   "source": [
    "# Model summary\n",
    "model_fit.summary()"
   ]
  },
  {
   "cell_type": "code",
   "execution_count": null,
   "id": "c6872f8e",
   "metadata": {},
   "outputs": [],
   "source": [
    "# line plot of residuals\n",
    "residuals = DataFrame(model_fit.resid)\n",
    "residuals.plot()\n",
    "pyplot.show()"
   ]
  },
  {
   "cell_type": "code",
   "execution_count": null,
   "id": "86076d8e",
   "metadata": {},
   "outputs": [],
   "source": [
    "# density plot of residuals\n",
    "residuals.plot(kind='kde')\n",
    "pyplot.show()"
   ]
  },
  {
   "cell_type": "code",
   "execution_count": null,
   "id": "8f7ce8ce",
   "metadata": {},
   "outputs": [],
   "source": [
    "# summary stats of residuals\n",
    "residuals.describe()"
   ]
  }
 ],
 "metadata": {
  "kernelspec": {
   "display_name": "Python 3 (ipykernel)",
   "language": "python",
   "name": "python3"
  },
  "language_info": {
   "codemirror_mode": {
    "name": "ipython",
    "version": 3
   },
   "file_extension": ".py",
   "mimetype": "text/x-python",
   "name": "python",
   "nbconvert_exporter": "python",
   "pygments_lexer": "ipython3",
   "version": "3.9.9"
  }
 },
 "nbformat": 4,
 "nbformat_minor": 5
}
