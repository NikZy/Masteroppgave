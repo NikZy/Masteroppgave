{
 "cells": [
  {
   "cell_type": "code",
   "execution_count": 1,
   "metadata": {},
   "outputs": [],
   "source": [
    "import pandas as pd"
   ]
  },
  {
   "cell_type": "code",
   "execution_count": 2,
   "metadata": {},
   "outputs": [],
   "source": [
    "metrics_file = \"../models/lstm-local-final-tune-dataset1-300-trials/logging/tuning_metrics.csv\""
   ]
  },
  {
   "cell_type": "code",
   "execution_count": 16,
   "metadata": {},
   "outputs": [
    {
     "data": {
      "text/plain": [
       "dataset            number_of_epochs:11\n",
       "parameters    score:0.1985660195350647\n",
       "errorvalue              Trial number:5\n",
       "Name: (2: trial.number;Parameters;number_of_layers:2, dropout_0:0.3768942680284767, hidden_size_0:48, recurrent_dropout_0:0.02951555367058587, dropout_1:0.034746294532327714, hidden_size_1:65, recurrent_dropout_1:0.15714254816821624, learning_rate:0.004431506289276225, batch_size:32, optimizer_name:RMSprop), dtype: object"
      ]
     },
     "execution_count": 16,
     "metadata": {},
     "output_type": "execute_result"
    }
   ],
   "source": [
    "tuning_log = pd.read_csv(metrics_file)\n",
    "tuning_log.iloc[5 ]"
   ]
  }
 ],
 "metadata": {
  "interpreter": {
   "hash": "31f2aee4e71d21fbe5cf8b01ff0e069b9275f58929596ceb00d14d90e3e16cd6"
  },
  "kernelspec": {
   "display_name": "Python 3.9.7 64-bit",
   "language": "python",
   "name": "python3"
  },
  "language_info": {
   "codemirror_mode": {
    "name": "ipython",
    "version": 3
   },
   "file_extension": ".py",
   "mimetype": "text/x-python",
   "name": "python",
   "nbconvert_exporter": "python",
   "pygments_lexer": "ipython3",
   "version": "3.9.7"
  },
  "orig_nbformat": 4
 },
 "nbformat": 4,
 "nbformat_minor": 2
}
