{
 "cells": [
  {
   "cell_type": "markdown",
   "metadata": {
    "collapsed": true,
    "pycharm": {
     "name": "#%% md\n"
    }
   },
   "source": [
    "### Package import"
   ]
  },
  {
   "cell_type": "code",
   "execution_count": 1,
   "metadata": {
    "pycharm": {
     "name": "#%%\n"
    }
   },
   "outputs": [],
   "source": [
    "import pandas as pd\n",
    "from matplotlib import pyplot as plt"
   ]
  },
  {
   "cell_type": "markdown",
   "metadata": {
    "pycharm": {
     "name": "#%% md\n"
    }
   },
   "source": [
    "# Import data"
   ]
  },
  {
   "cell_type": "code",
   "execution_count": 2,
   "metadata": {
    "pycharm": {
     "name": "#%%\n"
    }
   },
   "outputs": [],
   "source": [
    "data_set = pd.read_csv(\"../datasets/raw/market_insights_overview_all_2021_11_12.csv\")\n",
    "categories = pd.read_csv(\"../datasets/raw/solr_categories_2021_11_29.csv\")"
   ]
  },
  {
   "cell_type": "code",
   "execution_count": 3,
   "metadata": {
    "pycharm": {
     "name": "#%%\n"
    }
   },
   "outputs": [],
   "source": [
    "data_set[\"date\"] = pd.to_datetime(data_set[\"date\"])"
   ]
  },
  {
   "cell_type": "markdown",
   "metadata": {
    "pycharm": {
     "name": "#%% md\n"
    }
   },
   "source": [
    "## Raw data"
   ]
  },
  {
   "cell_type": "code",
   "execution_count": 4,
   "metadata": {
    "pycharm": {
     "name": "#%%\n"
    }
   },
   "outputs": [
    {
     "name": "stdout",
     "output_type": "stream",
     "text": [
      "<class 'pandas.core.frame.DataFrame'>\n",
      "RangeIndex: 35966868 entries, 0 to 35966867\n",
      "Data columns (total 9 columns):\n",
      " #   Column           Dtype         \n",
      "---  ------           -----         \n",
      " 0   id               int64         \n",
      " 1   product_id       int64         \n",
      " 2   manufacturer_id  int64         \n",
      " 3   cat_id           int64         \n",
      " 4   root_cat_id      int64         \n",
      " 5   date             datetime64[ns]\n",
      " 6   hits             int64         \n",
      " 7   clicks           int64         \n",
      " 8   last_modified    object        \n",
      "dtypes: datetime64[ns](1), int64(7), object(1)\n",
      "memory usage: 2.4+ GB\n"
     ]
    }
   ],
   "source": [
    "data_set.info()"
   ]
  },
  {
   "cell_type": "code",
   "execution_count": 5,
   "metadata": {
    "pycharm": {
     "name": "#%%\n"
    }
   },
   "outputs": [
    {
     "data": {
      "text/html": [
       "<div>\n",
       "<style scoped>\n",
       "    .dataframe tbody tr th:only-of-type {\n",
       "        vertical-align: middle;\n",
       "    }\n",
       "\n",
       "    .dataframe tbody tr th {\n",
       "        vertical-align: top;\n",
       "    }\n",
       "\n",
       "    .dataframe thead th {\n",
       "        text-align: right;\n",
       "    }\n",
       "</style>\n",
       "<table border=\"1\" class=\"dataframe\">\n",
       "  <thead>\n",
       "    <tr style=\"text-align: right;\">\n",
       "      <th></th>\n",
       "      <th>id</th>\n",
       "      <th>product_id</th>\n",
       "      <th>manufacturer_id</th>\n",
       "      <th>cat_id</th>\n",
       "      <th>root_cat_id</th>\n",
       "      <th>date</th>\n",
       "      <th>hits</th>\n",
       "      <th>clicks</th>\n",
       "      <th>last_modified</th>\n",
       "    </tr>\n",
       "  </thead>\n",
       "  <tbody>\n",
       "    <tr>\n",
       "      <th>0</th>\n",
       "      <td>12871556</td>\n",
       "      <td>343773</td>\n",
       "      <td>21</td>\n",
       "      <td>51</td>\n",
       "      <td>128</td>\n",
       "      <td>2019-09-16</td>\n",
       "      <td>492</td>\n",
       "      <td>162</td>\n",
       "      <td>2019-09-17 05:05:46.261642</td>\n",
       "    </tr>\n",
       "    <tr>\n",
       "      <th>1</th>\n",
       "      <td>12871557</td>\n",
       "      <td>354639</td>\n",
       "      <td>564</td>\n",
       "      <td>11054</td>\n",
       "      <td>11750</td>\n",
       "      <td>2019-09-16</td>\n",
       "      <td>443</td>\n",
       "      <td>9</td>\n",
       "      <td>2019-09-17 05:05:46.261642</td>\n",
       "    </tr>\n",
       "    <tr>\n",
       "      <th>2</th>\n",
       "      <td>12871558</td>\n",
       "      <td>321019</td>\n",
       "      <td>6522</td>\n",
       "      <td>11458</td>\n",
       "      <td>11750</td>\n",
       "      <td>2019-09-16</td>\n",
       "      <td>396</td>\n",
       "      <td>107</td>\n",
       "      <td>2019-09-17 05:05:46.261642</td>\n",
       "    </tr>\n",
       "    <tr>\n",
       "      <th>3</th>\n",
       "      <td>12871559</td>\n",
       "      <td>363342</td>\n",
       "      <td>21</td>\n",
       "      <td>19</td>\n",
       "      <td>117</td>\n",
       "      <td>2019-09-16</td>\n",
       "      <td>312</td>\n",
       "      <td>50</td>\n",
       "      <td>2019-09-17 05:05:46.261642</td>\n",
       "    </tr>\n",
       "    <tr>\n",
       "      <th>4</th>\n",
       "      <td>12871560</td>\n",
       "      <td>316344</td>\n",
       "      <td>168</td>\n",
       "      <td>19</td>\n",
       "      <td>117</td>\n",
       "      <td>2019-09-16</td>\n",
       "      <td>293</td>\n",
       "      <td>53</td>\n",
       "      <td>2019-09-17 05:05:46.261642</td>\n",
       "    </tr>\n",
       "  </tbody>\n",
       "</table>\n",
       "</div>"
      ],
      "text/plain": [
       "         id  product_id  manufacturer_id  cat_id  root_cat_id       date  \\\n",
       "0  12871556      343773               21      51          128 2019-09-16   \n",
       "1  12871557      354639              564   11054        11750 2019-09-16   \n",
       "2  12871558      321019             6522   11458        11750 2019-09-16   \n",
       "3  12871559      363342               21      19          117 2019-09-16   \n",
       "4  12871560      316344              168      19          117 2019-09-16   \n",
       "\n",
       "   hits  clicks               last_modified  \n",
       "0   492     162  2019-09-17 05:05:46.261642  \n",
       "1   443       9  2019-09-17 05:05:46.261642  \n",
       "2   396     107  2019-09-17 05:05:46.261642  \n",
       "3   312      50  2019-09-17 05:05:46.261642  \n",
       "4   293      53  2019-09-17 05:05:46.261642  "
      ]
     },
     "execution_count": 5,
     "metadata": {},
     "output_type": "execute_result"
    }
   ],
   "source": [
    "data_set.head()"
   ]
  },
  {
   "cell_type": "markdown",
   "metadata": {
    "pycharm": {
     "name": "#%% md\n"
    }
   },
   "source": [
    "## Category data"
   ]
  },
  {
   "cell_type": "code",
   "execution_count": 6,
   "metadata": {
    "pycharm": {
     "name": "#%%\n"
    }
   },
   "outputs": [
    {
     "name": "stdout",
     "output_type": "stream",
     "text": [
      "<class 'pandas.core.frame.DataFrame'>\n",
      "RangeIndex: 2136 entries, 0 to 2135\n",
      "Data columns (total 21 columns):\n",
      " #   Column             Non-Null Count  Dtype \n",
      "---  ------             --------------  ----- \n",
      " 0   parent             2136 non-null   object\n",
      " 1   title_no           2136 non-null   object\n",
      " 2   internal_doc_type  2136 non-null   object\n",
      " 3   image_url          2136 non-null   object\n",
      " 4   description        2114 non-null   object\n",
      " 5   title              2136 non-null   object\n",
      " 6   title_phonetic     2136 non-null   object\n",
      " 7   url                2136 non-null   object\n",
      " 8   tags               2136 non-null   object\n",
      " 9   path               2136 non-null   object\n",
      " 10  _version_          2136 non-null   int64 \n",
      " 11  internal_doc_id    2136 non-null   int64 \n",
      " 12  popularity         2136 non-null   int64 \n",
      " 13  root               2136 non-null   object\n",
      " 14  alias              841 non-null    object\n",
      " 15  title_edge_ngram   2136 non-null   object\n",
      " 16  id                 2136 non-null   int64 \n",
      " 17  alias_no           841 non-null    object\n",
      " 18  adult              2136 non-null   bool  \n",
      " 19  last_modified      2136 non-null   object\n",
      " 20  parents            2119 non-null   object\n",
      "dtypes: bool(1), int64(4), object(16)\n",
      "memory usage: 336.0+ KB\n"
     ]
    }
   ],
   "source": [
    "categories.info()"
   ]
  },
  {
   "cell_type": "code",
   "execution_count": 7,
   "metadata": {
    "pycharm": {
     "name": "#%%\n"
    }
   },
   "outputs": [
    {
     "data": {
      "text/html": [
       "<div>\n",
       "<style scoped>\n",
       "    .dataframe tbody tr th:only-of-type {\n",
       "        vertical-align: middle;\n",
       "    }\n",
       "\n",
       "    .dataframe tbody tr th {\n",
       "        vertical-align: top;\n",
       "    }\n",
       "\n",
       "    .dataframe thead th {\n",
       "        text-align: right;\n",
       "    }\n",
       "</style>\n",
       "<table border=\"1\" class=\"dataframe\">\n",
       "  <thead>\n",
       "    <tr style=\"text-align: right;\">\n",
       "      <th></th>\n",
       "      <th>parent</th>\n",
       "      <th>title_no</th>\n",
       "      <th>internal_doc_type</th>\n",
       "      <th>image_url</th>\n",
       "      <th>description</th>\n",
       "      <th>title</th>\n",
       "      <th>title_phonetic</th>\n",
       "      <th>url</th>\n",
       "      <th>tags</th>\n",
       "      <th>path</th>\n",
       "      <th>...</th>\n",
       "      <th>internal_doc_id</th>\n",
       "      <th>popularity</th>\n",
       "      <th>root</th>\n",
       "      <th>alias</th>\n",
       "      <th>title_edge_ngram</th>\n",
       "      <th>id</th>\n",
       "      <th>alias_no</th>\n",
       "      <th>adult</th>\n",
       "      <th>last_modified</th>\n",
       "      <th>parents</th>\n",
       "    </tr>\n",
       "  </thead>\n",
       "  <tbody>\n",
       "    <tr>\n",
       "      <th>0</th>\n",
       "      <td>Vannsport</td>\n",
       "      <td>Vannski</td>\n",
       "      <td>category</td>\n",
       "      <td>/3131/3131139/da3b0f02940b4bf2a6831a4a2113fdc7...</td>\n",
       "      <td>1 produkter</td>\n",
       "      <td>Vannski</td>\n",
       "      <td>Vannski</td>\n",
       "      <td>/kategorier/vannski</td>\n",
       "      <td>products</td>\n",
       "      <td>Sport og friluftsliv&gt;Sportsutstyr&gt;Vannsport&gt;Va...</td>\n",
       "      <td>...</td>\n",
       "      <td>13053</td>\n",
       "      <td>1004</td>\n",
       "      <td>Sport og friluftsliv</td>\n",
       "      <td>water ski</td>\n",
       "      <td>Vannski</td>\n",
       "      <td>13053</td>\n",
       "      <td>water ski</td>\n",
       "      <td>False</td>\n",
       "      <td>2021-11-29T04:01:40.783Z</td>\n",
       "      <td>Sport og friluftsliv,Sportsutstyr,Vannsport</td>\n",
       "    </tr>\n",
       "    <tr>\n",
       "      <th>1</th>\n",
       "      <td>Sportsutstyr</td>\n",
       "      <td>Vannsport</td>\n",
       "      <td>category</td>\n",
       "      <td>/1698/1698422/original.36x75!m.jpg</td>\n",
       "      <td>870 produkter</td>\n",
       "      <td>Vannsport</td>\n",
       "      <td>Vannsport</td>\n",
       "      <td>/kategorier/vannsport</td>\n",
       "      <td>categories</td>\n",
       "      <td>Sport og friluftsliv&gt;Sportsutstyr&gt;Vannsport</td>\n",
       "      <td>...</td>\n",
       "      <td>10065</td>\n",
       "      <td>4000</td>\n",
       "      <td>Sport og friluftsliv</td>\n",
       "      <td>NaN</td>\n",
       "      <td>Vannsport</td>\n",
       "      <td>10065</td>\n",
       "      <td>NaN</td>\n",
       "      <td>False</td>\n",
       "      <td>2021-11-29T04:01:40.783Z</td>\n",
       "      <td>Sport og friluftsliv,Sportsutstyr</td>\n",
       "    </tr>\n",
       "    <tr>\n",
       "      <th>2</th>\n",
       "      <td>Hagearbeid</td>\n",
       "      <td>Vannspreder</td>\n",
       "      <td>category</td>\n",
       "      <td>/1705/1705821/original.132x75!m.jpg</td>\n",
       "      <td>35 produkter</td>\n",
       "      <td>Vannspreder</td>\n",
       "      <td>Vannspreder</td>\n",
       "      <td>/kategorier/vannspreder</td>\n",
       "      <td>products</td>\n",
       "      <td>Hage og utemiljø&gt;Hagearbeid&gt;Vannspreder</td>\n",
       "      <td>...</td>\n",
       "      <td>11661</td>\n",
       "      <td>1046</td>\n",
       "      <td>Hage og utemiljø</td>\n",
       "      <td>spreder</td>\n",
       "      <td>Vannspreder</td>\n",
       "      <td>11661</td>\n",
       "      <td>spreder</td>\n",
       "      <td>False</td>\n",
       "      <td>2021-11-29T04:01:40.783Z</td>\n",
       "      <td>Hage og utemiljø,Hagearbeid</td>\n",
       "    </tr>\n",
       "    <tr>\n",
       "      <th>3</th>\n",
       "      <td>Hansker og votter</td>\n",
       "      <td>Vanter</td>\n",
       "      <td>category</td>\n",
       "      <td>/3071/3071632/original.68x75!m.jpg</td>\n",
       "      <td>758 produkter</td>\n",
       "      <td>Vanter</td>\n",
       "      <td>Vanter</td>\n",
       "      <td>/kategorier/vanter</td>\n",
       "      <td>filter</td>\n",
       "      <td>Klær og sko&gt;Accessories og tilbehør&gt;Hansker og...</td>\n",
       "      <td>...</td>\n",
       "      <td>12811</td>\n",
       "      <td>5897</td>\n",
       "      <td>Klær og sko</td>\n",
       "      <td>NaN</td>\n",
       "      <td>Vanter</td>\n",
       "      <td>12811</td>\n",
       "      <td>NaN</td>\n",
       "      <td>False</td>\n",
       "      <td>2021-11-29T04:01:40.783Z</td>\n",
       "      <td>Klær og sko,Accessories og tilbehør,Hansker og...</td>\n",
       "    </tr>\n",
       "    <tr>\n",
       "      <th>4</th>\n",
       "      <td>Tilhenger</td>\n",
       "      <td>Varehenger</td>\n",
       "      <td>category</td>\n",
       "      <td>/3154/3154296/i.192x75!m.jpg</td>\n",
       "      <td>99 produkter</td>\n",
       "      <td>Varehenger</td>\n",
       "      <td>Varehenger</td>\n",
       "      <td>/kategorier/varehenger</td>\n",
       "      <td>filter</td>\n",
       "      <td>Bilutstyr&gt;Tilhenger&gt;Varehenger</td>\n",
       "      <td>...</td>\n",
       "      <td>13209</td>\n",
       "      <td>1469</td>\n",
       "      <td>Bilutstyr</td>\n",
       "      <td>NaN</td>\n",
       "      <td>Varehenger</td>\n",
       "      <td>13209</td>\n",
       "      <td>NaN</td>\n",
       "      <td>False</td>\n",
       "      <td>2021-11-29T04:01:40.783Z</td>\n",
       "      <td>Bilutstyr,Tilhenger</td>\n",
       "    </tr>\n",
       "  </tbody>\n",
       "</table>\n",
       "<p>5 rows × 21 columns</p>\n",
       "</div>"
      ],
      "text/plain": [
       "              parent     title_no internal_doc_type  \\\n",
       "0          Vannsport      Vannski          category   \n",
       "1       Sportsutstyr    Vannsport          category   \n",
       "2         Hagearbeid  Vannspreder          category   \n",
       "3  Hansker og votter       Vanter          category   \n",
       "4          Tilhenger   Varehenger          category   \n",
       "\n",
       "                                           image_url    description  \\\n",
       "0  /3131/3131139/da3b0f02940b4bf2a6831a4a2113fdc7...    1 produkter   \n",
       "1                 /1698/1698422/original.36x75!m.jpg  870 produkter   \n",
       "2                /1705/1705821/original.132x75!m.jpg   35 produkter   \n",
       "3                 /3071/3071632/original.68x75!m.jpg  758 produkter   \n",
       "4                       /3154/3154296/i.192x75!m.jpg   99 produkter   \n",
       "\n",
       "         title title_phonetic                      url        tags  \\\n",
       "0      Vannski        Vannski      /kategorier/vannski    products   \n",
       "1    Vannsport      Vannsport    /kategorier/vannsport  categories   \n",
       "2  Vannspreder    Vannspreder  /kategorier/vannspreder    products   \n",
       "3       Vanter         Vanter       /kategorier/vanter      filter   \n",
       "4   Varehenger     Varehenger   /kategorier/varehenger      filter   \n",
       "\n",
       "                                                path  ...  internal_doc_id  \\\n",
       "0  Sport og friluftsliv>Sportsutstyr>Vannsport>Va...  ...            13053   \n",
       "1        Sport og friluftsliv>Sportsutstyr>Vannsport  ...            10065   \n",
       "2            Hage og utemiljø>Hagearbeid>Vannspreder  ...            11661   \n",
       "3  Klær og sko>Accessories og tilbehør>Hansker og...  ...            12811   \n",
       "4                     Bilutstyr>Tilhenger>Varehenger  ...            13209   \n",
       "\n",
       "   popularity                  root      alias title_edge_ngram     id  \\\n",
       "0        1004  Sport og friluftsliv  water ski          Vannski  13053   \n",
       "1        4000  Sport og friluftsliv        NaN        Vannsport  10065   \n",
       "2        1046      Hage og utemiljø    spreder      Vannspreder  11661   \n",
       "3        5897           Klær og sko        NaN           Vanter  12811   \n",
       "4        1469             Bilutstyr        NaN       Varehenger  13209   \n",
       "\n",
       "    alias_no  adult             last_modified  \\\n",
       "0  water ski  False  2021-11-29T04:01:40.783Z   \n",
       "1        NaN  False  2021-11-29T04:01:40.783Z   \n",
       "2    spreder  False  2021-11-29T04:01:40.783Z   \n",
       "3        NaN  False  2021-11-29T04:01:40.783Z   \n",
       "4        NaN  False  2021-11-29T04:01:40.783Z   \n",
       "\n",
       "                                             parents  \n",
       "0        Sport og friluftsliv,Sportsutstyr,Vannsport  \n",
       "1                  Sport og friluftsliv,Sportsutstyr  \n",
       "2                        Hage og utemiljø,Hagearbeid  \n",
       "3  Klær og sko,Accessories og tilbehør,Hansker og...  \n",
       "4                                Bilutstyr,Tilhenger  \n",
       "\n",
       "[5 rows x 21 columns]"
      ]
     },
     "execution_count": 7,
     "metadata": {},
     "output_type": "execute_result"
    }
   ],
   "source": [
    "categories.head()"
   ]
  },
  {
   "cell_type": "markdown",
   "metadata": {
    "pycharm": {
     "name": "#%% md\n"
    }
   },
   "source": [
    "### Check for NaN values"
   ]
  },
  {
   "cell_type": "code",
   "execution_count": 8,
   "metadata": {
    "pycharm": {
     "name": "#%%\n"
    }
   },
   "outputs": [
    {
     "data": {
      "text/plain": [
       "id                 0\n",
       "product_id         0\n",
       "manufacturer_id    0\n",
       "cat_id             0\n",
       "root_cat_id        0\n",
       "date               0\n",
       "hits               0\n",
       "clicks             0\n",
       "last_modified      0\n",
       "dtype: int64"
      ]
     },
     "execution_count": 8,
     "metadata": {},
     "output_type": "execute_result"
    }
   ],
   "source": [
    "data_set.isnull().sum()"
   ]
  },
  {
   "cell_type": "markdown",
   "metadata": {},
   "source": [
    "## Merge data"
   ]
  },
  {
   "cell_type": "code",
   "execution_count": 17,
   "metadata": {},
   "outputs": [],
   "source": [
    "category_names = categories[[\"internal_doc_id\", \"title\"]]"
   ]
  },
  {
   "cell_type": "code",
   "execution_count": 18,
   "metadata": {},
   "outputs": [
    {
     "ename": "NameError",
     "evalue": "name 'grouped' is not defined",
     "output_type": "error",
     "traceback": [
      "\u001B[1;31m---------------------------------------------------------------------------\u001B[0m",
      "\u001B[1;31mNameError\u001B[0m                                 Traceback (most recent call last)",
      "Input \u001B[1;32mIn [18]\u001B[0m, in \u001B[0;36m<module>\u001B[1;34m\u001B[0m\n\u001B[0;32m      1\u001B[0m \u001B[38;5;66;03m# Join with category names\u001B[39;00m\n\u001B[1;32m----> 2\u001B[0m grouped_joined\u001B[38;5;241m=\u001B[39m pd\u001B[38;5;241m.\u001B[39mmerge(\u001B[43mgrouped\u001B[49m, category_names, how\u001B[38;5;241m=\u001B[39m\u001B[38;5;124m\"\u001B[39m\u001B[38;5;124mleft\u001B[39m\u001B[38;5;124m\"\u001B[39m, left_on\u001B[38;5;241m=\u001B[39m[\u001B[38;5;124m\"\u001B[39m\u001B[38;5;124mcat_id\u001B[39m\u001B[38;5;124m\"\u001B[39m], right_on\u001B[38;5;241m=\u001B[39m[\u001B[38;5;124m\"\u001B[39m\u001B[38;5;124minternal_doc_id\u001B[39m\u001B[38;5;124m\"\u001B[39m])\n\u001B[0;32m      3\u001B[0m grouped_joined\u001B[38;5;241m.\u001B[39mrename(columns\u001B[38;5;241m=\u001B[39m{\u001B[38;5;124m\"\u001B[39m\u001B[38;5;124mtitle\u001B[39m\u001B[38;5;124m\"\u001B[39m: \u001B[38;5;124m\"\u001B[39m\u001B[38;5;124mcat_name\u001B[39m\u001B[38;5;124m\"\u001B[39m}, inplace\u001B[38;5;241m=\u001B[39m\u001B[38;5;28;01mTrue\u001B[39;00m)\n\u001B[0;32m      4\u001B[0m grouped_joined\u001B[38;5;241m.\u001B[39mdrop(columns\u001B[38;5;241m=\u001B[39m[\u001B[38;5;124m\"\u001B[39m\u001B[38;5;124minternal_doc_id\u001B[39m\u001B[38;5;124m\"\u001B[39m], inplace\u001B[38;5;241m=\u001B[39m\u001B[38;5;28;01mTrue\u001B[39;00m, axis\u001B[38;5;241m=\u001B[39m\u001B[38;5;241m1\u001B[39m)\n",
      "\u001B[1;31mNameError\u001B[0m: name 'grouped' is not defined"
     ]
    }
   ],
   "source": [
    "# Join with category names\n",
    "grouped_joined= pd.merge(grouped, category_names, how=\"left\", left_on=[\"cat_id\"], right_on=[\"internal_doc_id\"])\n",
    "grouped_joined.rename(columns={\"title\": \"cat_name\"}, inplace=True)\n",
    "grouped_joined.drop(columns=[\"internal_doc_id\"], inplace=True, axis=1)"
   ]
  },
  {
   "cell_type": "code",
   "execution_count": null,
   "metadata": {},
   "outputs": [],
   "source": []
  },
  {
   "cell_type": "markdown",
   "metadata": {
    "pycharm": {
     "name": "#%% md\n"
    }
   },
   "source": [
    "### Check for correlaction\n",
    "Start with auto correlcation"
   ]
  },
  {
   "cell_type": "code",
   "execution_count": 9,
   "metadata": {
    "pycharm": {
     "name": "#%%\n"
    }
   },
   "outputs": [
    {
     "name": "stderr",
     "output_type": "stream",
     "text": [
      "c:\\users\\sander\\documents\\school\\masteroppgave\\env\\lib\\site-packages\\statsmodels\\compat\\pandas.py:65: FutureWarning: pandas.Int64Index is deprecated and will be removed from pandas in a future version. Use pandas.Index with the appropriate dtype instead.\n",
      "  from pandas import Int64Index as NumericIndex\n"
     ]
    }
   ],
   "source": [
    "from statsmodels.graphics.tsaplots import plot_acf, plot_pacf\n",
    "import seaborn as sns"
   ]
  },
  {
   "cell_type": "code",
   "execution_count": 16,
   "metadata": {},
   "outputs": [
    {
     "ename": "KeyError",
     "evalue": "\"None of ['date'] are in the columns\"",
     "output_type": "error",
     "traceback": [
      "\u001B[1;31m---------------------------------------------------------------------------\u001B[0m",
      "\u001B[1;31mKeyError\u001B[0m                                  Traceback (most recent call last)",
      "Input \u001B[1;32mIn [16]\u001B[0m, in \u001B[0;36m<module>\u001B[1;34m\u001B[0m\n\u001B[0;32m      1\u001B[0m \u001B[38;5;66;03m# Select relevant data\u001B[39;00m\n\u001B[0;32m      2\u001B[0m correlation_data \u001B[38;5;241m=\u001B[39m data_set[[\u001B[38;5;124m'\u001B[39m\u001B[38;5;124mdate\u001B[39m\u001B[38;5;124m'\u001B[39m, \u001B[38;5;124m'\u001B[39m\u001B[38;5;124mhits\u001B[39m\u001B[38;5;124m'\u001B[39m, \u001B[38;5;124m'\u001B[39m\u001B[38;5;124mcat_id\u001B[39m\u001B[38;5;124m'\u001B[39m]]\u001B[38;5;241m.\u001B[39mset_index([\u001B[38;5;124m'\u001B[39m\u001B[38;5;124mdate\u001B[39m\u001B[38;5;124m'\u001B[39m])\n\u001B[1;32m----> 3\u001B[0m correlation_data \u001B[38;5;241m=\u001B[39m \u001B[43mcorrelation_data\u001B[49m\u001B[38;5;241;43m.\u001B[39;49m\u001B[43mpivot\u001B[49m\u001B[43m(\u001B[49m\u001B[43mindex\u001B[49m\u001B[38;5;241;43m=\u001B[39;49m\u001B[43m[\u001B[49m\u001B[38;5;124;43m\"\u001B[39;49m\u001B[38;5;124;43mdate\u001B[39;49m\u001B[38;5;124;43m\"\u001B[39;49m\u001B[43m]\u001B[49m\u001B[43m,\u001B[49m\u001B[43m \u001B[49m\u001B[43mcolumns\u001B[49m\u001B[38;5;241;43m=\u001B[39;49m\u001B[43m[\u001B[49m\u001B[38;5;124;43m\"\u001B[39;49m\u001B[38;5;124;43mcat_id\u001B[39;49m\u001B[38;5;124;43m\"\u001B[39;49m\u001B[43m]\u001B[49m\u001B[43m)\u001B[49m\n",
      "File \u001B[1;32mc:\\users\\sander\\documents\\school\\masteroppgave\\env\\lib\\site-packages\\pandas\\core\\frame.py:7876\u001B[0m, in \u001B[0;36mDataFrame.pivot\u001B[1;34m(self, index, columns, values)\u001B[0m\n\u001B[0;32m   7871\u001B[0m \u001B[38;5;129m@Substitution\u001B[39m(\u001B[38;5;124m\"\u001B[39m\u001B[38;5;124m\"\u001B[39m)\n\u001B[0;32m   7872\u001B[0m \u001B[38;5;129m@Appender\u001B[39m(_shared_docs[\u001B[38;5;124m\"\u001B[39m\u001B[38;5;124mpivot\u001B[39m\u001B[38;5;124m\"\u001B[39m])\n\u001B[0;32m   7873\u001B[0m \u001B[38;5;28;01mdef\u001B[39;00m \u001B[38;5;21mpivot\u001B[39m(\u001B[38;5;28mself\u001B[39m, index\u001B[38;5;241m=\u001B[39m\u001B[38;5;28;01mNone\u001B[39;00m, columns\u001B[38;5;241m=\u001B[39m\u001B[38;5;28;01mNone\u001B[39;00m, values\u001B[38;5;241m=\u001B[39m\u001B[38;5;28;01mNone\u001B[39;00m) \u001B[38;5;241m-\u001B[39m\u001B[38;5;241m>\u001B[39m DataFrame:\n\u001B[0;32m   7874\u001B[0m     \u001B[38;5;28;01mfrom\u001B[39;00m \u001B[38;5;21;01mpandas\u001B[39;00m\u001B[38;5;21;01m.\u001B[39;00m\u001B[38;5;21;01mcore\u001B[39;00m\u001B[38;5;21;01m.\u001B[39;00m\u001B[38;5;21;01mreshape\u001B[39;00m\u001B[38;5;21;01m.\u001B[39;00m\u001B[38;5;21;01mpivot\u001B[39;00m \u001B[38;5;28;01mimport\u001B[39;00m pivot\n\u001B[1;32m-> 7876\u001B[0m     \u001B[38;5;28;01mreturn\u001B[39;00m \u001B[43mpivot\u001B[49m\u001B[43m(\u001B[49m\u001B[38;5;28;43mself\u001B[39;49m\u001B[43m,\u001B[49m\u001B[43m \u001B[49m\u001B[43mindex\u001B[49m\u001B[38;5;241;43m=\u001B[39;49m\u001B[43mindex\u001B[49m\u001B[43m,\u001B[49m\u001B[43m \u001B[49m\u001B[43mcolumns\u001B[49m\u001B[38;5;241;43m=\u001B[39;49m\u001B[43mcolumns\u001B[49m\u001B[43m,\u001B[49m\u001B[43m \u001B[49m\u001B[43mvalues\u001B[49m\u001B[38;5;241;43m=\u001B[39;49m\u001B[43mvalues\u001B[49m\u001B[43m)\u001B[49m\n",
      "File \u001B[1;32mc:\\users\\sander\\documents\\school\\masteroppgave\\env\\lib\\site-packages\\pandas\\core\\reshape\\pivot.py:493\u001B[0m, in \u001B[0;36mpivot\u001B[1;34m(data, index, columns, values)\u001B[0m\n\u001B[0;32m    490\u001B[0m     append \u001B[38;5;241m=\u001B[39m index \u001B[38;5;129;01mis\u001B[39;00m \u001B[38;5;28;01mNone\u001B[39;00m\n\u001B[0;32m    491\u001B[0m     \u001B[38;5;66;03m# error: Unsupported operand types for + (\"List[Any]\" and \"ExtensionArray\")\u001B[39;00m\n\u001B[0;32m    492\u001B[0m     \u001B[38;5;66;03m# error: Unsupported left operand type for + (\"ExtensionArray\")\u001B[39;00m\n\u001B[1;32m--> 493\u001B[0m     indexed \u001B[38;5;241m=\u001B[39m \u001B[43mdata\u001B[49m\u001B[38;5;241;43m.\u001B[39;49m\u001B[43mset_index\u001B[49m\u001B[43m(\u001B[49m\n\u001B[0;32m    494\u001B[0m \u001B[43m        \u001B[49m\u001B[43mcols\u001B[49m\u001B[43m \u001B[49m\u001B[38;5;241;43m+\u001B[39;49m\u001B[43m \u001B[49m\u001B[43mcolumns_listlike\u001B[49m\u001B[43m,\u001B[49m\u001B[43m \u001B[49m\u001B[43mappend\u001B[49m\u001B[38;5;241;43m=\u001B[39;49m\u001B[43mappend\u001B[49m\u001B[43m  \u001B[49m\u001B[38;5;66;43;03m# type: ignore[operator]\u001B[39;49;00m\n\u001B[0;32m    495\u001B[0m \u001B[43m    \u001B[49m\u001B[43m)\u001B[49m\n\u001B[0;32m    496\u001B[0m \u001B[38;5;28;01melse\u001B[39;00m:\n\u001B[0;32m    497\u001B[0m     \u001B[38;5;28;01mif\u001B[39;00m index \u001B[38;5;129;01mis\u001B[39;00m \u001B[38;5;28;01mNone\u001B[39;00m:\n",
      "File \u001B[1;32mc:\\users\\sander\\documents\\school\\masteroppgave\\env\\lib\\site-packages\\pandas\\util\\_decorators.py:311\u001B[0m, in \u001B[0;36mdeprecate_nonkeyword_arguments.<locals>.decorate.<locals>.wrapper\u001B[1;34m(*args, **kwargs)\u001B[0m\n\u001B[0;32m    305\u001B[0m \u001B[38;5;28;01mif\u001B[39;00m \u001B[38;5;28mlen\u001B[39m(args) \u001B[38;5;241m>\u001B[39m num_allow_args:\n\u001B[0;32m    306\u001B[0m     warnings\u001B[38;5;241m.\u001B[39mwarn(\n\u001B[0;32m    307\u001B[0m         msg\u001B[38;5;241m.\u001B[39mformat(arguments\u001B[38;5;241m=\u001B[39marguments),\n\u001B[0;32m    308\u001B[0m         \u001B[38;5;167;01mFutureWarning\u001B[39;00m,\n\u001B[0;32m    309\u001B[0m         stacklevel\u001B[38;5;241m=\u001B[39mstacklevel,\n\u001B[0;32m    310\u001B[0m     )\n\u001B[1;32m--> 311\u001B[0m \u001B[38;5;28;01mreturn\u001B[39;00m func(\u001B[38;5;241m*\u001B[39margs, \u001B[38;5;241m*\u001B[39m\u001B[38;5;241m*\u001B[39mkwargs)\n",
      "File \u001B[1;32mc:\\users\\sander\\documents\\school\\masteroppgave\\env\\lib\\site-packages\\pandas\\core\\frame.py:5496\u001B[0m, in \u001B[0;36mDataFrame.set_index\u001B[1;34m(self, keys, drop, append, inplace, verify_integrity)\u001B[0m\n\u001B[0;32m   5493\u001B[0m                 missing\u001B[38;5;241m.\u001B[39mappend(col)\n\u001B[0;32m   5495\u001B[0m \u001B[38;5;28;01mif\u001B[39;00m missing:\n\u001B[1;32m-> 5496\u001B[0m     \u001B[38;5;28;01mraise\u001B[39;00m \u001B[38;5;167;01mKeyError\u001B[39;00m(\u001B[38;5;124mf\u001B[39m\u001B[38;5;124m\"\u001B[39m\u001B[38;5;124mNone of \u001B[39m\u001B[38;5;132;01m{\u001B[39;00mmissing\u001B[38;5;132;01m}\u001B[39;00m\u001B[38;5;124m are in the columns\u001B[39m\u001B[38;5;124m\"\u001B[39m)\n\u001B[0;32m   5498\u001B[0m \u001B[38;5;28;01mif\u001B[39;00m inplace:\n\u001B[0;32m   5499\u001B[0m     frame \u001B[38;5;241m=\u001B[39m \u001B[38;5;28mself\u001B[39m\n",
      "\u001B[1;31mKeyError\u001B[0m: \"None of ['date'] are in the columns\""
     ]
    }
   ],
   "source": [
    "# Select relevant data\n",
    "correlation_data = data_set[['date', 'hits', 'cat_id']].set_index(['date'])\n",
    "correlation_data = correlation_data.pivot(index=[\"date\"], columns=[\"cat_id\"])"
   ]
  },
  {
   "cell_type": "code",
   "execution_count": null,
   "metadata": {
    "pycharm": {
     "is_executing": true,
     "name": "#%%\n"
    }
   },
   "outputs": [],
   "source": [
    "# Calculate ACF (via statsmodel)\n",
    "plot_acf(correlcation_data, lags=50)\n",
    "plt.show()"
   ]
  },
  {
   "cell_type": "markdown",
   "metadata": {
    "pycharm": {
     "name": "#%% md\n"
    }
   },
   "source": [
    "## Partial autocorrelation"
   ]
  },
  {
   "cell_type": "code",
   "execution_count": null,
   "metadata": {
    "pycharm": {
     "is_executing": true,
     "name": "#%%\n"
    }
   },
   "outputs": [],
   "source": [
    "plot_pacf(correlcation_data, lags=50)\n",
    "plt.show()"
   ]
  },
  {
   "cell_type": "markdown",
   "metadata": {},
   "source": [
    "## Correlation matrix"
   ]
  },
  {
   "cell_type": "code",
   "execution_count": 13,
   "metadata": {},
   "outputs": [],
   "source": [
    "correlation_data_corr = correlation_data.corr(min_periods=100)"
   ]
  },
  {
   "cell_type": "code",
   "execution_count": 14,
   "metadata": {},
   "outputs": [
    {
     "data": {
      "text/plain": [
       "<AxesSubplot:>"
      ]
     },
     "execution_count": 14,
     "metadata": {},
     "output_type": "execute_result"
    },
    {
     "data": {
      "image/png": "[encoded data removed]",
      "text/plain": [
       "<Figure size 432x288 with 2 Axes>"
      ]
     },
     "metadata": {
      "needs_background": "light"
     },
     "output_type": "display_data"
    }
   ],
   "source": [
    "sns.heatmap(correlation_data_corr, xticklabels=False, yticklabels=False, cbar=True)\n"
   ]
  },
  {
   "cell_type": "code",
   "execution_count": 15,
   "metadata": {},
   "outputs": [
    {
     "data": {
      "text/html": [
       "<div>\n",
       "<style scoped>\n",
       "    .dataframe tbody tr th:only-of-type {\n",
       "        vertical-align: middle;\n",
       "    }\n",
       "\n",
       "    .dataframe tbody tr th {\n",
       "        vertical-align: top;\n",
       "    }\n",
       "\n",
       "    .dataframe thead th {\n",
       "        text-align: right;\n",
       "    }\n",
       "</style>\n",
       "<table border=\"1\" class=\"dataframe\">\n",
       "  <thead>\n",
       "    <tr style=\"text-align: right;\">\n",
       "      <th></th>\n",
       "      <th>hits</th>\n",
       "    </tr>\n",
       "  </thead>\n",
       "  <tbody>\n",
       "    <tr>\n",
       "      <th>hits</th>\n",
       "      <td>1.0</td>\n",
       "    </tr>\n",
       "  </tbody>\n",
       "</table>\n",
       "</div>"
      ],
      "text/plain": [
       "      hits\n",
       "hits   1.0"
      ]
     },
     "execution_count": 15,
     "metadata": {},
     "output_type": "execute_result"
    }
   ],
   "source": [
    "correlation_data_corr"
   ]
  },
  {
   "cell_type": "markdown",
   "metadata": {
    "pycharm": {
     "name": "#%% md\n"
    }
   },
   "source": [
    "### TODO:\n",
    "- Auto correlation\n",
    "- Correlation matrix\n",
    "- Find correlating datasets\n",
    "\n",
    "- Find time series with low correlation\n",
    "- Time series that should not be correlated\n",
    "\n",
    "- Find series with high seasonality or extreme values\n",
    "- Find series with no or little seasonality"
   ]
  },
  {
   "cell_type": "code",
   "execution_count": null,
   "metadata": {
    "pycharm": {
     "name": "#%%\n"
    }
   },
   "outputs": [],
   "source": []
  }
 ],
 "metadata": {
  "kernelspec": {
   "display_name": "Python 3 (ipykernel)",
   "language": "python",
   "name": "python3"
  },
  "language_info": {
   "codemirror_mode": {
    "name": "ipython",
    "version": 3
   },
   "file_extension": ".py",
   "mimetype": "text/x-python",
   "name": "python",
   "nbconvert_exporter": "python",
   "pygments_lexer": "ipython3",
   "version": "3.9.10"
  }
 },
 "nbformat": 4,
 "nbformat_minor": 1
}