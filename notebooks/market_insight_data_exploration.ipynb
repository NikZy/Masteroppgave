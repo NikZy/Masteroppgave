{
 "cells": [
  {
   "cell_type": "code",
   "execution_count": 9,
   "metadata": {},
   "outputs": [],
   "source": [
    "import pandas as pd\n",
    "from matplotlib import pyplot as plt\n",
    "#from dataenforce import Dataset\n",
    "#DMarket_insight = Dataset[\"id\", \"date\", ...]\n",
    "data = pd.read_csv(\"../datasets/market_insights_overview_all_2021_11_12.csv\")\n",
    "data[\"date\"] = pd.to_datetime(data[\"date\"])\n"
   ]
  },
  {
   "cell_type": "code",
   "execution_count": 10,
   "metadata": {},
   "outputs": [
    {
     "ename": "NameError",
     "evalue": "name 'plt' is not defined",
     "output_type": "error",
     "traceback": [
      "\u001b[0;31m---------------------------------------------------------------------------\u001b[0m",
      "\u001b[0;31mNameError\u001b[0m                                 Traceback (most recent call last)",
      "\u001b[0;32m/tmp/ipykernel_5803/1336065670.py\u001b[0m in \u001b[0;36m<module>\u001b[0;34m\u001b[0m\n\u001b[1;32m      1\u001b[0m \u001b[0;32mfrom\u001b[0m \u001b[0mutils\u001b[0m \u001b[0;32mimport\u001b[0m \u001b[0msave_fig_for_raport\u001b[0m\u001b[0;34m\u001b[0m\u001b[0;34m\u001b[0m\u001b[0m\n\u001b[0;32m----> 2\u001b[0;31m \u001b[0mprint\u001b[0m\u001b[0;34m(\u001b[0m\u001b[0mplt\u001b[0m\u001b[0;34m.\u001b[0m\u001b[0mstyle\u001b[0m\u001b[0;34m.\u001b[0m\u001b[0mavailable\u001b[0m\u001b[0;34m)\u001b[0m\u001b[0;34m\u001b[0m\u001b[0;34m\u001b[0m\u001b[0m\n\u001b[0m\u001b[1;32m      3\u001b[0m \u001b[0mplt\u001b[0m\u001b[0;34m.\u001b[0m\u001b[0mstyle\u001b[0m\u001b[0;34m.\u001b[0m\u001b[0muse\u001b[0m\u001b[0;34m(\u001b[0m\u001b[0;34m\"seaborn\"\u001b[0m\u001b[0;34m)\u001b[0m\u001b[0;34m\u001b[0m\u001b[0;34m\u001b[0m\u001b[0m\n",
      "\u001b[0;31mNameError\u001b[0m: name 'plt' is not defined"
     ]
    }
   ],
   "source": [
    "from utils import save_fig_for_raport\n",
    "print(plt.style.available)\n",
    "plt.style.use(\"seaborn\")"
   ]
  },
  {
   "cell_type": "code",
   "execution_count": null,
   "metadata": {},
   "outputs": [],
   "source": [
    "\n",
    "from utils import dataframe_to_latex_tabular"
   ]
  },
  {
   "cell_type": "code",
   "execution_count": null,
   "metadata": {},
   "outputs": [],
   "source": [
    "data.head()\n",
    "data.info()"
   ]
  },
  {
   "cell_type": "code",
   "execution_count": null,
   "metadata": {},
   "outputs": [],
   "source": [
    "categories = pd.read_csv(\"../datasets/solr_categories_all_16_09_2021.csv\")\n",
    "categories.head()"
   ]
  },
  {
   "cell_type": "code",
   "execution_count": null,
   "metadata": {},
   "outputs": [],
   "source": [
    "# Join market_insight table with category names\n",
    "category_names = categories[[ \"internal_doc_id\", \"title\"]]\n",
    "category_id_to_names_map = dict(map(lambda x: (x[\"internal_doc_id\"], x[\"title\"]), category_names.to_dict(\"records\")))\n",
    "category_name_to_id_map = dict(map(lambda x: (x[\"title\"], x[\"internal_doc_id\"]), category_names.to_dict(\"records\")))"
   ]
  },
  {
   "cell_type": "code",
   "execution_count": null,
   "metadata": {},
   "outputs": [],
   "source": [
    "#print(category_names[\"title\"])\n",
    "#categories_file = open(\"categories.txt\", \"w\")\n",
    "#for cat_line in category_names[\"title\"]:\n",
    "#    categories_file.write(cat_line)\n",
    "#    categories_file.write(\"\\n\")\n",
    "#categories_file.close()"
   ]
  },
  {
   "cell_type": "code",
   "execution_count": null,
   "metadata": {},
   "outputs": [],
   "source": [
    "import matplotlib.pyplot as plt\n",
    "import numpy as np\n",
    "# Set pandas to use decimal insteaf of scientific e^x notaion\n",
    "pd.set_option(\"display.float_format\", lambda x: \"%.0f\" % x)\n",
    "\n",
    "interesting_data = data[[\"date\", \"hits\", \"clicks\", \"product_id\", \"cat_id\"]]\n",
    "\n",
    "print(f\"Unique products: {data['product_id'].nunique()}\")\n",
    "print(f\"Unique categories: {data['cat_id'].nunique()}\")\n",
    "\n",
    "\n",
    "grouped = interesting_data.groupby([\"cat_id\", \"date\"], as_index=False).sum()\n",
    "# Filter away early 2018 data as it seems to contain errors\n",
    "grouped = grouped.loc[grouped['date'] > '2018-12-01']\n",
    "\n",
    "print(grouped)\n",
    "grouped.describe()"
   ]
  },
  {
   "cell_type": "code",
   "execution_count": null,
   "metadata": {},
   "outputs": [],
   "source": [
    "# Join with category names\n",
    "grouped_joined= pd.merge(grouped, category_names, how=\"left\", left_on=[\"cat_id\"], right_on=[\"internal_doc_id\"])\n",
    "grouped_joined.rename(columns={\"title\": \"cat_name\"}, inplace=True)\n",
    "grouped_joined.drop(columns=[\"internal_doc_id\"], inplace=True, axis=1)"
   ]
  },
  {
   "cell_type": "code",
   "execution_count": null,
   "metadata": {},
   "outputs": [
    {
     "ename": "NameError",
     "evalue": "name 'grouped_joined' is not defined",
     "output_type": "error",
     "traceback": [
      "\u001b[0;31m---------------------------------------------------------------------------\u001b[0m",
      "\u001b[0;31mNameError\u001b[0m                                 Traceback (most recent call last)",
      "\u001b[0;32m/tmp/ipykernel_5803/244243946.py\u001b[0m in \u001b[0;36m<module>\u001b[0;34m\u001b[0m\n\u001b[1;32m      1\u001b[0m dataframe_to_latex_tabular(\n\u001b[0;32m----> 2\u001b[0;31m   grouped_joined.head().append({\"cat_id\": \"...\", \"hits\":\"...\", \"date\": \"\", \"clicks\":\"...\", \"product_id\": \"...\", \"cat_name\":\"...\"}, ignore_index=True).append(\n\u001b[0m\u001b[1;32m      3\u001b[0m     \u001b[0mgrouped_joined\u001b[0m\u001b[0;34m.\u001b[0m\u001b[0mtail\u001b[0m\u001b[0;34m(\u001b[0m\u001b[0;34m)\u001b[0m\u001b[0;34m\u001b[0m\u001b[0;34m\u001b[0m\u001b[0m\n\u001b[1;32m      4\u001b[0m   ),\n\u001b[1;32m      5\u001b[0m   \u001b[0mcaption\u001b[0m\u001b[0;34m=\u001b[0m\u001b[0;34m\"Market Insights Overview dataset\"\u001b[0m\u001b[0;34m,\u001b[0m\u001b[0;34m\u001b[0m\u001b[0;34m\u001b[0m\u001b[0m\n",
      "\u001b[0;31mNameError\u001b[0m: name 'grouped_joined' is not defined"
     ]
    }
   ],
   "source": [
    "dataframe_to_latex_tabular(\n",
    "  grouped_joined.head().append({\"cat_id\": \"...\", \"hits\":\"...\", \"date\": \"\", \"clicks\":\"...\", \"product_id\": \"...\", \"cat_name\":\"...\"}, ignore_index=True).append(\n",
    "    grouped_joined.tail()\n",
    "  ),\n",
    "  caption=\"Market Insights Overview dataset\", \n",
    "  label=\"market_insights_overview_11-12-21\")"
   ]
  },
  {
   "cell_type": "markdown",
   "metadata": {},
   "source": [
    "I perioden august 2018 til perioden august 2021 ble det registrert 1320 unike kategorier.\n",
    "Et nevralnett med 1320 i bredde er litt stort kanskje? Det vil også låse modellen til X antall kategorier.\n",
    "Dette er et argument for å se på hver kategori inviduelt og ha en egen modell per kategori.\n",
    "\n",
    "Ulempen med det igjen er at det blir veldig mange modeller..."
   ]
  },
  {
   "cell_type": "code",
   "execution_count": null,
   "metadata": {},
   "outputs": [],
   "source": [
    "print(grouped[grouped[\"hits\"] == 1].count())\n",
    "grouped.boxplot(column=[\"hits\", \"clicks\"])\n",
    "grouped.hist(column=[\"hits\", \"clicks\"], range=(0, 50))"
   ]
  },
  {
   "cell_type": "markdown",
   "metadata": {},
   "source": [
    "The boxplot shows that on most days hits hower around 10 500, and clicks around 8000. There have been one extreme case on 1 day, where \n",
    "1 category had 60 000 hits!\n",
    "The histogram show the distribution, a very few days a year a few categories has a lot of hits.\n",
    "The longer to the right we get the more days and categories are represented."
   ]
  },
  {
   "cell_type": "code",
   "execution_count": null,
   "metadata": {},
   "outputs": [],
   "source": [
    "import matplotlib.dates as mdate\n",
    "date_locator = mdate.MonthLocator()\n",
    "formatter = mdate.DateFormatter(\"%Y-%m\")\n",
    "all_categories = data[\"cat_id\"].unique()\n",
    "for cat in all_categories[:15]:\n",
    "    cat_name = categories.loc[categories[\"internal_doc_id\"] == cat][\"title\"]\n",
    "    save_fig_for_raport(\n",
    "    grouped[grouped[\"cat_id\"] == cat].plot(\n",
    "        x=\"date\", \n",
    "        y=[\"hits\", \"clicks\"], \n",
    "        title=f\"categori_id: {cat_name}\", \n",
    "        figsize=(30, 10),\n",
    "        ),f\"lineplot_{cat}_{category_id_to_names_map[cat]}\")\n",
    "#interesting_data.plot()\n",
    "        #.xaxis.set_major_locator(date_locator)\n",
    "#grouped.plot(x=\"date\", y=[\"hits\", \"clicks\"],)"
   ]
  },
  {
   "cell_type": "code",
   "execution_count": null,
   "metadata": {},
   "outputs": [],
   "source": [
    "turmat = grouped[grouped[\"cat_id\"] == 11488]\n",
    "turmat.head()\n",
    "name = categories.loc[categories[\"internal_doc_id\"] == 11488]\n",
    "name.head()\n",
    "save_fig_for_raport(\n",
    "        turmat.plot(\n",
    "                x=\"date\", \n",
    "                y=[\"hits\", \"clicks\"], \n",
    "                title=f\"categori: Turmat\", \n",
    "                figsize=(30, 10),\n",
    "        ),f\"lineplot_11488_turmat\")"
   ]
  },
  {
   "cell_type": "code",
   "execution_count": null,
   "metadata": {},
   "outputs": [],
   "source": [
    "vapenskap = grouped[grouped[\"cat_id\"] == 12738]\n",
    "vapenskap.head()\n",
    "name = categories.loc[categories[\"internal_doc_id\"] == 12738]\n",
    "name.head()\n",
    "save_fig_for_raport(\n",
    "        vapenskap.plot(\n",
    "                x=\"date\", \n",
    "                y=[\"hits\", \"clicks\"], \n",
    "                title=f\"categori: Våpenskap\", \n",
    "                figsize=(30, 10)),\n",
    "        f\"lineplot_12738_vapenskap\"\n",
    "        )\n"
   ]
  },
  {
   "cell_type": "code",
   "execution_count": null,
   "metadata": {},
   "outputs": [],
   "source": [
    "kopp_og_krus = grouped[grouped[\"cat_id\"] == 12663]\n",
    "kopp_og_krus.head()\n",
    "name = categories.loc[categories[\"internal_doc_id\"] == 12663]\n",
    "name.head()\n",
    "kopp_og_krus.plot(\n",
    "        x=\"date\", \n",
    "        y=[\"hits\", \"clicks\"], \n",
    "        title=f\"categori: Kopp og krus\", \n",
    "        figsize=(30, 10),)"
   ]
  },
  {
   "cell_type": "markdown",
   "metadata": {},
   "source": [
    "\n",
    "Det virker ikke som om det er data på kopper og krus. Dette burde undersøkes nærmere. Forhåpentligvis finnes dataen, men den er ikke hentet ut og sendt til oss."
   ]
  },
  {
   "cell_type": "code",
   "execution_count": null,
   "metadata": {},
   "outputs": [],
   "source": [
    "hengekøye = grouped[grouped[\"cat_id\"] == 11514]\n",
    "hengekøye.head()\n",
    "name = categories.loc[categories[\"internal_doc_id\"] == 11514]\n",
    "name.head()\n",
    "save_fig_for_raport(\n",
    "\n",
    "        hengekøye.plot(\n",
    "                x=\"date\", \n",
    "                y=[\"hits\", \"clicks\"], \n",
    "                title=f\"categori: Hengekøye\", \n",
    "                figsize=(30, 10),),\n",
    "        f\"lineplot_11514 hengekøye\"\n",
    ")"
   ]
  },
  {
   "cell_type": "code",
   "execution_count": null,
   "metadata": {},
   "outputs": [],
   "source": [
    "gpu = grouped[grouped[\"cat_id\"] == 30]\n",
    "gpu.head()\n",
    "name = categories.loc[categories[\"internal_doc_id\"] == 30]\n",
    "name.head()\n",
    "save_fig_for_raport(\n",
    "        gpu.plot(\n",
    "                x=\"date\", \n",
    "                y=[\"hits\", \"clicks\"], \n",
    "                title=f\"categori: {category_id_to_names_map[30]}\", \n",
    "                figsize=(30, 10),),\n",
    "        f\"lineplot_30_gpu\"\n",
    ")"
   ]
  },
  {
   "cell_type": "markdown",
   "metadata": {},
   "source": []
  },
  {
   "cell_type": "code",
   "execution_count": null,
   "metadata": {},
   "outputs": [],
   "source": [
    "import numpy as np\n",
    "name.head()\n",
    "import seaborn as sns\n",
    "print(np.corrcoef(data[\"hits\"], data[\"clicks\"]))\n",
    "correlation_matrix = data[[\"hits\", \"clicks\"]].corr()\n",
    "sns.heatmap(correlation_matrix)"
   ]
  },
  {
   "cell_type": "markdown",
   "metadata": {},
   "source": [
    "Høy korrelasjon mellom hits og klicks!"
   ]
  },
  {
   "cell_type": "code",
   "execution_count": null,
   "metadata": {},
   "outputs": [],
   "source": [
    "data.describe()"
   ]
  },
  {
   "cell_type": "code",
   "execution_count": null,
   "metadata": {},
   "outputs": [],
   "source": [
    "data.info()"
   ]
  },
  {
   "cell_type": "code",
   "execution_count": null,
   "metadata": {},
   "outputs": [],
   "source": [
    "data.hist(figsize=(20,15))"
   ]
  },
  {
   "cell_type": "code",
   "execution_count": null,
   "metadata": {},
   "outputs": [],
   "source": [
    "\n",
    "# correlation_matrix = data.corr()\n",
    "# sns.heatmap(correlation_matrix)\n",
    "data_by_cat_id = grouped.pivot(index=[\"date\"], columns=[\"cat_id\"])[\"hits\"]\n",
    "data_by_cat_id.tail()"
   ]
  },
  {
   "cell_type": "code",
   "execution_count": null,
   "metadata": {},
   "outputs": [],
   "source": [
    "# Check the validity of the pivot table\n",
    "grouped_joined[(grouped_joined['date'] == '2021-09-12') & (grouped_joined['cat_id'] == 13759)]\n",
    "# Seems to check out"
   ]
  },
  {
   "cell_type": "code",
   "execution_count": null,
   "metadata": {},
   "outputs": [],
   "source": [
    "import seaborn as sns\n",
    "# Require at least 200 observations for correlation to be valid\n",
    "category_correlation = data_by_cat_id.corr(min_periods=100)\n",
    "plt.figure(figsize=(20,10))\n",
    "save_fig_for_raport(\n",
    "  sns.heatmap(category_correlation),\n",
    "  \"category_correlation_matrix\"  \n",
    ")\n",
    "category_correlation"
   ]
  },
  {
   "cell_type": "code",
   "execution_count": null,
   "metadata": {},
   "outputs": [],
   "source": [
    "category_correlation.to_csv(\"../datasets/category_correlation.csv\")"
   ]
  },
  {
   "cell_type": "code",
   "execution_count": null,
   "metadata": {},
   "outputs": [],
   "source": [
    "# Find number of correlations with bærbar-pc som ikke er 0 eller 1\n",
    "pc_correlations = category_correlation[2].dropna()\n",
    "print(\"Number of correlations with bærbar pc which is not 0 or 1: \",\n",
    "  len(\n",
    "  list(\n",
    "    filter(lambda x: x != 0 and x != 1, \n",
    "       pc_correlations\n",
    "      )\n",
    "  )\n",
    "))\n",
    "print(\"Number of correlations with bærbar pc which is 1: \",list(filter(lambda x: x == 1, pc_correlations)))"
   ]
  },
  {
   "cell_type": "code",
   "execution_count": null,
   "metadata": {},
   "outputs": [],
   "source": [
    "cpu_id = category_name_to_id_map['Prosessor (CPU)']\n",
    "gpu_id = category_name_to_id_map['Grafikkort (GPU)']\n",
    "cpu_gpu_correlation = data_by_cat_id.loc[:, [cpu_id, gpu_id]].corr()\n",
    "print(cpu_gpu_correlation)\n",
    "data_by_cat_id.loc[:, [cpu_id, gpu_id]]"
   ]
  },
  {
   "cell_type": "markdown",
   "metadata": {},
   "source": [
    "Ser ikke ut som CPU eller GPU korrelerer i det hele tatt"
   ]
  },
  {
   "cell_type": "code",
   "execution_count": null,
   "metadata": {},
   "outputs": [],
   "source": [
    "print(category_id_to_names_map[6])\n",
    "print(category_id_to_names_map[2])\n",
    "two_six = data_by_cat_id.loc[:, [2, 6]]\n",
    "two_six.plot()\n",
    "two_six.plot.scatter(x=6,y=2)\n",
    "two_six_corr =two_six.corr()\n",
    "print(two_six_corr)\n",
    "two_six"
   ]
  },
  {
   "cell_type": "markdown",
   "metadata": {},
   "source": [
    "Hvorfor korrelerer disse 100%?"
   ]
  },
  {
   "cell_type": "code",
   "execution_count": null,
   "metadata": {},
   "outputs": [],
   "source": [
    "\n",
    "print(category_id_to_names_map[13759])\n",
    "print(category_id_to_names_map[2])\n",
    "dopapir_pc = data_by_cat_id.loc[:, [2,  13759]]\n",
    "dopapir_pc.plot()\n",
    "dopapir_pc_corr = dopapir_pc.corr()\n",
    "print(dopapir_pc_corr)\n",
    "dopapir_pc"
   ]
  },
  {
   "cell_type": "markdown",
   "metadata": {},
   "source": [
    "Ser ut som dopapir og PC kun korrelerer 100 % fordi dopapir er en ny kategori"
   ]
  },
  {
   "cell_type": "code",
   "execution_count": null,
   "metadata": {},
   "outputs": [],
   "source": [
    "# Save some statistics for Mobiltelefon\n",
    "dataframe_to_latex_tabular(\n",
    "  grouped_joined[grouped_joined[\"cat_id\"] == category_name_to_id_map['Mobiltelefon']].drop(\"product_id\", axis=1).describe(),\n",
    "  caption=\"Mobiltelefon statistics\",\n",
    "  label=\"Mobiltelefon_statistics\",\n",
    "  add_index=True\n",
    ")"
   ]
  },
  {
   "cell_type": "markdown",
   "metadata": {},
   "source": [
    "## How many categories has 0 values in a given day?"
   ]
  },
  {
   "cell_type": "code",
   "execution_count": null,
   "metadata": {},
   "outputs": [],
   "source": [
    "save_fig_for_raport(\n",
    "  data_by_cat_id.isna().sum().plot(),\n",
    "  name=\"category_NaN_values\"\n",
    ")\n",
    "data_by_cat_id.isna().sum()"
   ]
  },
  {
   "cell_type": "code",
   "execution_count": null,
   "metadata": {},
   "outputs": [],
   "source": [
    "save_fig_for_raport(\n",
    "    data_by_cat_id.isin([0]).sum().plot(),\n",
    "    name=\"category_0_values\"\n",
    " )\n",
    "data_by_cat_id.isin([0]).sum()"
   ]
  },
  {
   "cell_type": "markdown",
   "metadata": {},
   "source": [
    "## Lag plot"
   ]
  },
  {
   "cell_type": "markdown",
   "metadata": {},
   "source": [
    "resource: http://www.itl.nist.gov/div898/handbook/eda/section3/lagplot.htm\n",
    "\n",
    "In the graph below, firt axis represents the t(lag), seond axis represents t+1\n",
    "\n",
    "Ex: if data is, [1,4,5,3,2], then y(t):= [1,4,5,3,2], y(t+1): = [4,5,3,2]\n",
    "\n",
    "As we see the graph below, this suggests the non-random pattern (graph is poistively linear).\n",
    "\n",
    "Non-randomness in the data reveals that we could use an autoregressive model"
   ]
  },
  {
   "cell_type": "code",
   "execution_count": null,
   "metadata": {},
   "outputs": [],
   "source": [
    "from pandas.plotting import lag_plot"
   ]
  },
  {
   "cell_type": "code",
   "execution_count": null,
   "metadata": {},
   "outputs": [],
   "source": [
    "lag_plot(grouped_joined[grouped_joined[\"cat_id\"] == category_name_to_id_map['Mobiltelefon']][\"clicks\"])\n",
    "for cat_id in all_categories[:10]:\n",
    "  save_fig_for_raport(\n",
    "    lag_plot(grouped_joined[grouped_joined[\"cat_id\"] == cat_id][\"hits\"]),\n",
    "    name=f\"lag_plot_hits_10_categories\"\n",
    "  )"
   ]
  },
  {
   "cell_type": "code",
   "execution_count": null,
   "metadata": {},
   "outputs": [],
   "source": [
    "\n",
    "lag_plot(\n",
    "  grouped_joined[grouped_joined[\"cat_id\"] == category_name_to_id_map['Mobiltelefon']][\"clicks\"],\n",
    "  lag=7\n",
    "  )"
   ]
  },
  {
   "cell_type": "markdown",
   "metadata": {},
   "source": [
    "https://www.itl.nist.gov/div898/handbook/eda/section3/lagplot.htm"
   ]
  },
  {
   "cell_type": "code",
   "execution_count": null,
   "metadata": {},
   "outputs": [],
   "source": [
    "from pandas.plotting import autocorrelation_plot\n",
    "autocorrelation_plot(grouped_joined[grouped_joined[\"cat_id\"] == category_name_to_id_map['Mobiltelefon']][\"hits\"])\n",
    "autocorrelation_plot(grouped_joined[grouped_joined[\"cat_id\"] == category_name_to_id_map['Mobiltelefon']][\"hits\"], \n",
    "  label=\"hits\",\n",
    "  )"
   ]
  },
  {
   "cell_type": "markdown",
   "metadata": {},
   "source": [
    "resource: http://www.itl.nist.gov/div898/handbook/eda/section3/eda35c.htm\n",
    "\n",
    "A lag plot above shows the structure in the data. In order to quantify the correlation between the point at t and point at t+1 withe respect to expectation, autocrrelation is used.\n",
    "\n",
    "A black line in the graph below shows the expectation for random data(thus 0 correlation) and two dash lines above and below it represent the confidence interval with each 95% and 99%.\n",
    "\n",
    "The graph shows a strong correlation for lags of < 100 days. (lag 0 is always 1 corrleation)"
   ]
  },
  {
   "cell_type": "code",
   "execution_count": null,
   "metadata": {},
   "outputs": [],
   "source": [
    "from statsmodels.graphics.tsaplots import plot_pacf\n",
    "plot_pacf(\n",
    "  grouped_joined[grouped_joined[\"cat_id\"] == category_name_to_id_map['Mobiltelefon']][\"hits\"],\n",
    "  lags=7\n",
    "  )"
   ]
  }
 ],
 "metadata": {
  "interpreter": {
   "hash": "7f939d60aa803dcc3c56c8a01473a5edc1c59c5e682309f90b46d005695c8917"
  },
  "kernelspec": {
   "display_name": "Python 3 (ipykernel)",
   "language": "python",
   "name": "python3"
  },
  "language_info": {
   "codemirror_mode": {
    "name": "ipython",
    "version": 3
   },
   "file_extension": ".py",
   "mimetype": "text/x-python",
   "name": "python",
   "nbconvert_exporter": "python",
   "pygments_lexer": "ipython3",
   "version": "3.8.10"
  }
 },
 "nbformat": 4,
 "nbformat_minor": 2
}
